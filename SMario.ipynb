{
 "cells": [
  {
   "cell_type": "markdown",
   "id": "1aa65258-fc43-49bb-b0d1-5f141c699803",
   "metadata": {},
   "source": [
    "## Setting Up Super Mario"
   ]
  },
  {
   "cell_type": "code",
   "execution_count": null,
   "id": "8885a300-418a-496a-b8a9-d451ff432292",
   "metadata": {
    "scrolled": true,
    "tags": []
   },
   "outputs": [],
   "source": [
    "pip install gym_super_mario_bros==7.3.0 nes_py"
   ]
  },
  {
   "cell_type": "code",
   "execution_count": null,
   "id": "cceed90f-a3af-4eb6-b636-b9c8c5454939",
   "metadata": {
    "tags": []
   },
   "outputs": [],
   "source": [
    "#import game\n",
    "import gym_super_mario_bros\n",
    "#Import the Joypad wrapper\n",
    "from nes_py.wrappers import JoypadSpace\n",
    "#Import the SIMPLIFIED controls\n",
    "from gym_super_mario_bros.actions import SIMPLE_MOVEMENT"
   ]
  },
  {
   "cell_type": "code",
   "execution_count": 42,
   "id": "7bad5c72-5883-45b1-863c-15e14df43fd8",
   "metadata": {},
   "outputs": [],
   "source": [
    "#Setting Up Game\n",
    "env = gym_super_mario_bros.make('SuperMarioBros-v3')\n",
    "env = JoypadSpace(env, SIMPLE_MOVEMENT)"
   ]
  },
  {
   "cell_type": "code",
   "execution_count": 3,
   "id": "373f0f8d-632b-43cb-a6bb-274b50c95ad6",
   "metadata": {},
   "outputs": [
    {
     "data": {
      "text/plain": [
       "[['NOOP'],\n",
       " ['right'],\n",
       " ['right', 'A'],\n",
       " ['right', 'B'],\n",
       " ['right', 'A', 'B'],\n",
       " ['A'],\n",
       " ['left']]"
      ]
     },
     "execution_count": 3,
     "metadata": {},
     "output_type": "execute_result"
    }
   ],
   "source": [
    "SIMPLE_MOVEMENT"
   ]
  },
  {
   "cell_type": "code",
   "execution_count": null,
   "id": "7cbbc30f-0f7c-4c62-bdd0-ed52741c6cc5",
   "metadata": {},
   "outputs": [],
   "source": [
    "#Restart Game or Not\n",
    "done = True\n",
    "#Looping through each frame in the Game\n",
    "for step in range(100000):\n",
    "    if done:\n",
    "        #Start the Game\n",
    "        env.reset()\n",
    "        #Do random action\n",
    "    state , reward , done , info = env.step(env.action_space.sample()) \n",
    "    # Show Game on the screen\n",
    "    env.render()\n",
    "#Close the game                                        \n",
    "env.close()"
   ]
  },
  {
   "cell_type": "code",
   "execution_count": null,
   "id": "a7076213",
   "metadata": {},
   "outputs": [],
   "source": [
    "env.close()"
   ]
  },
  {
   "cell_type": "markdown",
   "id": "4d03136a-a3fa-43be-8adc-348ad39e585e",
   "metadata": {},
   "source": [
    "## Preprocess Environment"
   ]
  },
  {
   "cell_type": "code",
   "execution_count": null,
   "id": "f306a1c2-a699-4dcc-a358-d33ca9307ed2",
   "metadata": {
    "scrolled": true,
    "tags": []
   },
   "outputs": [],
   "source": [
    "conda install pytorch torchvision torchaudio cudatoolkit=11.3 -c pytorch"
   ]
  },
  {
   "cell_type": "code",
   "execution_count": null,
   "id": "a3422c76",
   "metadata": {},
   "outputs": [],
   "source": [
    " $ conda update -n base -c defaults conda"
   ]
  },
  {
   "cell_type": "code",
   "execution_count": null,
   "id": "0320afbe",
   "metadata": {},
   "outputs": [],
   "source": [
    "conda install -c anaconda pip"
   ]
  },
  {
   "cell_type": "code",
   "execution_count": null,
   "id": "3300872a-ed3a-438b-8faa-08321e8922e3",
   "metadata": {
    "scrolled": true
   },
   "outputs": [],
   "source": [
    "!pip install stable-baselines3[extra]"
   ]
  },
  {
   "cell_type": "code",
   "execution_count": null,
   "id": "97d2137f",
   "metadata": {},
   "outputs": [],
   "source": [
    "pip install matplotlib"
   ]
  },
  {
   "cell_type": "code",
   "execution_count": 43,
   "id": "85bb0bfa-050c-41d4-abdb-0b5119f80cac",
   "metadata": {},
   "outputs": [],
   "source": [
    "#Import GrayScaling Wrapper\n",
    "from gym.wrappers import GrayScaleObservation\n",
    "#Import Vectorization Wrappers\n",
    "from stable_baselines3.common.vec_env import VecFrameStack , DummyVecEnv\n",
    "#Import Matplotlib to show the impact of frame stacking\n",
    "import matplotlib.pyplot as plt"
   ]
  },
  {
   "cell_type": "code",
   "execution_count": 55,
   "id": "9db79ed1-a7e6-490e-84ed-01ac6461df5d",
   "metadata": {},
   "outputs": [],
   "source": [
    "# 1 . Create base environment\n",
    "env = gym_super_mario_bros.make('SuperMarioBros-v3')\n",
    "#2 . Simplify the controls\n",
    "env = JoypadSpace(env, SIMPLE_MOVEMENT)\n",
    "#3 . GrayScale\n",
    "env = GrayScaleObservation(env , keep_dim = True)\n",
    "#4 . Wrap Inside Dummy Environment\n",
    "env = DummyVecEnv([lambda: env])\n",
    "#5. Stack the frames\n",
    "env = VecFrameStack(env, 3, channels_order = 'last')"
   ]
  },
  {
   "cell_type": "code",
   "execution_count": 56,
   "id": "c8a94765-d23c-482f-9105-a4f1f4712df8",
   "metadata": {},
   "outputs": [],
   "source": [
    "state = env.reset()"
   ]
  },
  {
   "cell_type": "code",
   "execution_count": 57,
   "id": "a5f61d82-a929-497a-94f7-05ecdd4f751a",
   "metadata": {},
   "outputs": [
    {
     "data": {
      "text/plain": [
       "(1, 240, 256, 3)"
      ]
     },
     "execution_count": 57,
     "metadata": {},
     "output_type": "execute_result"
    }
   ],
   "source": [
    "state.shape"
   ]
  },
  {
   "cell_type": "code",
   "execution_count": 11,
   "id": "7a4ea0e0-4e00-4a88-80da-34928a8384ab",
   "metadata": {},
   "outputs": [],
   "source": [
    "state , reward , done , info = env.step([env.action_space.sample()]) "
   ]
  },
  {
   "cell_type": "code",
   "execution_count": null,
   "id": "d6f65ded-0112-40be-8f42-b572d88899de",
   "metadata": {},
   "outputs": [],
   "source": [
    "#Use plt to show the game frame\n",
    "plt.imshow(state)"
   ]
  },
  {
   "cell_type": "code",
   "execution_count": null,
   "id": "1cb435d2-9e6b-47e3-8a5a-e9b315b9d8b8",
   "metadata": {},
   "outputs": [],
   "source": [
    "plt.figure(figsize=(20,16))\n",
    "for idx in range(state.shape[3]):\n",
    "    plt.subplot(1,4,idx + 1)\n",
    "    plt.imshow(state[0][:,:,idx])\n",
    "plt.show()   "
   ]
  },
  {
   "cell_type": "markdown",
   "id": "33429ba8-9216-47b4-82cc-c39bedd571ed",
   "metadata": {
    "tags": []
   },
   "source": [
    "## Train the RL Model"
   ]
  },
  {
   "cell_type": "code",
   "execution_count": null,
   "id": "0d4cbb99-1c69-40de-bb93-e23d1467f60a",
   "metadata": {},
   "outputs": [],
   "source": [
    "pip install stable-baselines3"
   ]
  },
  {
   "cell_type": "code",
   "execution_count": 47,
   "id": "e13d6236-aeff-405b-af49-f285cd47f431",
   "metadata": {},
   "outputs": [],
   "source": [
    "import stable_baselines3\n",
    "import gym"
   ]
  },
  {
   "cell_type": "code",
   "execution_count": 58,
   "id": "90c94c0c-7eb0-4646-840e-050efdebccaa",
   "metadata": {},
   "outputs": [],
   "source": [
    "#Import os for file path management\n",
    "import os\n",
    "#Import PPO for algos\n",
    "from stable_baselines3 import PPO\n",
    "#Import Base Callback for saving models\n",
    "from stable_baselines3.common.callbacks import BaseCallback"
   ]
  },
  {
   "cell_type": "code",
   "execution_count": 59,
   "id": "670ba977-cb79-4bc6-a258-8ecb08ff484d",
   "metadata": {},
   "outputs": [],
   "source": [
    "class TrainAndLoggingCallback(BaseCallback):\n",
    "    def __init__(self, check_freq, save_path, verbose=1):\n",
    "        super(TrainAndLoggingCallback, self).__init__(verbose)\n",
    "        self.check_freq = check_freq\n",
    "        self.save_path = save_path\n",
    "\n",
    "    def _init_callback(self):\n",
    "        if self.save_path is not None:\n",
    "            os.makedirs(self.save_path, exist_ok=True)\n",
    "\n",
    "    def _on_step(self):\n",
    "        if self.n_calls % self.check_freq == 0:\n",
    "            model_path = os.path.join(self.save_path, 'best_model_{}'.format(self.n_calls))\n",
    "            self.model.save(model_path)\n",
    "            \n",
    "        return True"
   ]
  },
  {
   "cell_type": "code",
   "execution_count": 60,
   "id": "d61542a6-a2be-4cae-9856-4c12d0968607",
   "metadata": {},
   "outputs": [],
   "source": [
    "CHECKPOINT_DIR = 'D:/train/'\n",
    "LOG_DIR = 'D:/logs/'"
   ]
  },
  {
   "cell_type": "code",
   "execution_count": 61,
   "id": "2aaa28b7-0bc1-4868-9eb4-22eb8b2a6bdc",
   "metadata": {},
   "outputs": [],
   "source": [
    "callback = TrainAndLoggingCallback(check_freq=10000, save_path=CHECKPOINT_DIR)"
   ]
  },
  {
   "cell_type": "code",
   "execution_count": 62,
   "id": "24ea6373-25cd-4262-ba1b-a92e009bf05c",
   "metadata": {},
   "outputs": [
    {
     "name": "stdout",
     "output_type": "stream",
     "text": [
      "Using cpu device\n",
      "Wrapping the env in a VecTransposeImage.\n"
     ]
    }
   ],
   "source": [
    "#This is the AI Model started\n",
    "model = PPO('CnnPolicy', env, verbose=1, tensorboard_log=LOG_DIR, learning_rate=0.000001, n_steps= 512,\n",
    "            )"
   ]
  },
  {
   "cell_type": "code",
   "execution_count": null,
   "id": "fa8f1e93-d9ae-4fdc-9a8b-bc3cf4e984ea",
   "metadata": {
    "tags": []
   },
   "outputs": [],
   "source": [
    "%%time\n",
    "model.learn(total_timesteps= 70000, callback=callback)"
   ]
  },
  {
   "cell_type": "markdown",
   "id": "868266c1-f00d-4a32-97b1-b0fa6c70a84d",
   "metadata": {},
   "source": [
    "## Test it out"
   ]
  },
  {
   "cell_type": "code",
   "execution_count": 63,
   "id": "c52c98aa-76be-43eb-bbfa-82644399a1eb",
   "metadata": {
    "tags": []
   },
   "outputs": [],
   "source": [
    "#Load Model\n",
    "model  = PPO.load('D:/train/best_model_50000')"
   ]
  },
  {
   "cell_type": "code",
   "execution_count": null,
   "id": "ac17b55d-3e78-4398-a732-965fac80b4ed",
   "metadata": {},
   "outputs": [],
   "source": [
    "#Start the game\n",
    "state = env.reset()\n",
    "#Loop through the game\n",
    "while True:\n",
    "    \n",
    "    action, _ = model.predict(state)\n",
    "    state , reward , done , info = env.step(action)\n",
    "    env.render()"
   ]
  },
  {
   "cell_type": "code",
   "execution_count": null,
   "id": "a47a15d1-5901-4e81-a9ef-eea531d60f92",
   "metadata": {},
   "outputs": [],
   "source": [
    "env.close()"
   ]
  }
 ],
 "metadata": {
  "kernelspec": {
   "display_name": "Python 3 (ipykernel)",
   "language": "python",
   "name": "python3"
  },
  "language_info": {
   "codemirror_mode": {
    "name": "ipython",
    "version": 3
   },
   "file_extension": ".py",
   "mimetype": "text/x-python",
   "name": "python",
   "nbconvert_exporter": "python",
   "pygments_lexer": "ipython3",
   "version": "3.9.12"
  }
 },
 "nbformat": 4,
 "nbformat_minor": 5
}
